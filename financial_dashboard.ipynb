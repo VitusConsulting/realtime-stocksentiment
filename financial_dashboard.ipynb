{
 "cells": [
  {
   "cell_type": "code",
   "execution_count": 1,
   "id": "35f91c23",
   "metadata": {},
   "outputs": [],
   "source": [
    "import pandas as pd\n",
    "import requests\n",
    "from sklearn.feature_extraction.text import CountVectorizer\n",
    "from sklearn.model_selection import train_test_split\n",
    "from xgboost import XGBClassifier\n",
    "from sklearn.naive_bayes import BernoulliNB\n",
    "from sklearn.preprocessing import LabelEncoder\n",
    "from sklearn import metrics"
   ]
  },
  {
   "cell_type": "code",
   "execution_count": null,
   "id": "24c866af",
   "metadata": {},
   "outputs": [],
   "source": [
    "api_key = 'YOUR_API_KEY'\n",
    "url = ('https://financialmodelingprep.com/api/v4/stock-news-sentiments-rss-feed?page=0&apikey={api_key}')\n",
    "response = requests.get(url)\n",
    "data = pd.DataFrame(response) \n",
    "data.head()\n",
    "\n",
    "data = pd.DataFrame(response,index=range)\n",
    "\n",
    "for i in range(0, 100):\n",
    "    api_key = 'YOUR_API_KEY'\n",
    "    url = ('https://financialmodelingprep.com/api/v4/stock-news-sentiments-rss-feed?page={i}&apikey={api_key}')\n",
    "    response = requests.get(url).json()\n",
    "    df = pd.DataFrame(response)\n",
    "    data = data.merge(df, how= 'outer')\n",
    "\n",
    "data = data.dropna()\n",
    "\n",
    "le = LabelEncoder()\n",
    "data.sentiment = le.fit_transform(data.sentiment)\n",
    "\n",
    "count_vectorizer =  CountVectorizer(max_features = 1000)\n",
    "\n",
    "feature_vector =  count_vectorizer.fit(data.text)\n",
    "train_ds_features =  count_vectorizer.transform(data.text)\n",
    "\n",
    "train_x, test_x, train_y, test_y =  train_test_split(train_ds_features, data.sentiment,\n",
    "                                                     test_size = 0.3, random_state = 42)\n",
    "\n",
    "train_y = train_y.astype('int')\n",
    "\n",
    "nb_clf = BernoulliNB()\n",
    "nb_clf.fit(train_x.toarray(), train_y)\n",
    "\n",
    "xg_clf = XGBClassifier()\n",
    "xg_clf.fit(train_x.toarray(), train_y)\n"
   ]
  },
  {
   "cell_type": "code",
   "execution_count": null,
   "id": "da1ddb16",
   "metadata": {},
   "outputs": [],
   "source": []
  }
 ],
 "metadata": {
  "kernelspec": {
   "display_name": "Python 3 (ipykernel)",
   "language": "python",
   "name": "python3"
  },
  "language_info": {
   "codemirror_mode": {
    "name": "ipython",
    "version": 3
   },
   "file_extension": ".py",
   "mimetype": "text/x-python",
   "name": "python",
   "nbconvert_exporter": "python",
   "pygments_lexer": "ipython3",
   "version": "3.10.5"
  }
 },
 "nbformat": 4,
 "nbformat_minor": 5
}
